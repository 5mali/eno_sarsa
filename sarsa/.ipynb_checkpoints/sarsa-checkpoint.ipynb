{
 "cells": [
  {
   "cell_type": "code",
   "execution_count": 1,
   "metadata": {},
   "outputs": [],
   "source": [
    "#BATTERY LEVEL AGNOSTIC PROTOTYPE"
   ]
  },
  {
   "cell_type": "code",
   "execution_count": 2,
   "metadata": {},
   "outputs": [],
   "source": [
    "%matplotlib inline"
   ]
  },
  {
   "cell_type": "code",
   "execution_count": 3,
   "metadata": {},
   "outputs": [],
   "source": [
    "import pulp\n",
    "import matplotlib.pyplot as plt\n",
    "import pandas as pd\n",
    "import numpy as np"
   ]
  },
  {
   "cell_type": "code",
   "execution_count": 4,
   "metadata": {},
   "outputs": [],
   "source": [
    "\n",
    "np.random.seed(230228)\n",
    "HMAX = 3000 #Maximum harvested energy\n",
    "\n",
    "DMIN = 1 #20% duty cycle = 100 mWhr\n",
    "DMAX = 5 #100% duty cycle = 500 mWhr\n",
    "DSCALE = 100 #scale to convert action value to actual power consumption\n",
    "NMAX = DMAX * DSCALE #max energy consumption\n",
    "\n",
    "BMIN = 0.0\n",
    "BMAX = 40000.0\n",
    "BOPT = 0.6 * BMAX\n",
    "BINIT = BOPT"
   ]
  },
  {
   "cell_type": "code",
   "execution_count": 5,
   "metadata": {},
   "outputs": [],
   "source": [
    "year = 2010\n",
    "filename = str(year)+'.csv'"
   ]
  },
  {
   "cell_type": "code",
   "execution_count": 6,
   "metadata": {},
   "outputs": [],
   "source": [
    "#skiprows=4 to remove unnecessary title texts\n",
    "#usecols=4 to read only the Global Solar Radiation (GSR) values\n",
    "solar_radiation = pd.read_csv(filename, skiprows=4, encoding='shift_jisx0213', usecols=[4])"
   ]
  },
  {
   "cell_type": "code",
   "execution_count": 7,
   "metadata": {},
   "outputs": [],
   "source": [
    "#convert dataframe to numpy array\n",
    "solar_radiation = solar_radiation.values\n",
    "solar_energy = np.array([i *0.0165*1000000*0.15*1000/(60*60) for i in solar_radiation])"
   ]
  },
  {
   "cell_type": "code",
   "execution_count": 8,
   "metadata": {},
   "outputs": [],
   "source": [
    "#reshape solar_energy into no_of_daysx24 array\n",
    "senergy = solar_energy.reshape(-1,24)\n",
    "senergy[np.isnan(senergy)] = 0 #convert missing data in CSV files to zero"
   ]
  },
  {
   "cell_type": "code",
   "execution_count": 9,
   "metadata": {},
   "outputs": [],
   "source": [
    "def rewardfn(next_dist):\n",
    "    mu = 0\n",
    "    sig = 500\n",
    "    \n",
    "    if(np.abs(next_dist) <= 1000):\n",
    "        return ((1./(np.sqrt(2.*np.pi)*sig)*np.exp(-np.power((next_dist - mu)/sig, 2.)/2)) * 700000 - 50)\n",
    "    else:\n",
    "        return -400\n",
    "\n",
    "# y = [rewardfn(x) for x in np.arange(-5000,5000)]\n",
    "# plt.plot(np.arange(-5000,5000),y)"
   ]
  },
  {
   "cell_type": "code",
   "execution_count": 10,
   "metadata": {},
   "outputs": [],
   "source": [
    "def get_henergy_state(henergy):\n",
    "    if (henergy <= 0):\n",
    "        henergy_state = 1\n",
    "    elif (0 < henergy <= 100):\n",
    "        henergy_state = 2\n",
    "    elif (100 < henergy <= 500):\n",
    "        henergy_state = 3\n",
    "    elif (500 < henergy <= 2000):\n",
    "        henergy_state = np.ceil(henergy/500) + 2\n",
    "    else:\n",
    "        henergy_state = 7\n",
    "    \n",
    "    return int(henergy_state)\n",
    "\n",
    "#y = [get_henergy_state(x) for x in np.arange(0.0,3000.0,0.5)]\n",
    "#plt.plot(y)"
   ]
  },
  {
   "cell_type": "code",
   "execution_count": 11,
   "metadata": {},
   "outputs": [],
   "source": [
    "def get_dist_state(dist):\n",
    "    temp = np.ceil(np.abs(dist/1000))\n",
    "    \n",
    "    if (dist >= 0):\n",
    "        dist_state = 21 - temp\n",
    "    else:\n",
    "        dist_state = 20 + temp\n",
    "    \n",
    "    dist_state = np.clip(dist_state, 0, 40)\n",
    "    \n",
    "    return int(dist_state)\n",
    "    \n",
    "#y = [get_dist_state(x) for x in np.arange(-40000,40000)]\n",
    "#plt.plot(y)"
   ]
  },
  {
   "cell_type": "code",
   "execution_count": 43,
   "metadata": {},
   "outputs": [],
   "source": [
    "def choose_action(dist_state, henergy_state,  day_state, q):\n",
    "    # This is how to choose an action\n",
    "    q_values = q[dist_state, henergy_state,  day_state, :]\n",
    "    max_q_value = np.max(q_values)\n",
    "    max_action = np.argmax(q_values)\n",
    "    if (np.random.uniform() < epsilon) or ((q_values == 0).all()):  # select randomly if exploring or \n",
    "                                                                         #if state-action values are ALL zero\n",
    "        action = np.random.randint(1,no_of_actions)\n",
    "    else:   # act greedy\n",
    "        action = max_action\n",
    "    return int(action)"
   ]
  },
  {
   "cell_type": "code",
   "execution_count": 44,
   "metadata": {},
   "outputs": [],
   "source": [
    "#function to map total day energy into day_state\n",
    "def get_day_state(tot_day_energy):\n",
    "    if (tot_day_energy < 2500):\n",
    "        day_state = 1\n",
    "    elif (2500 <= tot_day_energy < 5000):\n",
    "        day_state = 2\n",
    "    elif (5000 <= tot_day_energy < 8000):\n",
    "        day_state = 3\n",
    "    elif (8000 <= tot_day_energy < 10000):\n",
    "        day_state = 4\n",
    "    elif (10000 <= tot_day_energy < 12000):\n",
    "        day_state = 5\n",
    "    else:\n",
    "        day_state = 6\n",
    "        \n",
    "    return int(day_state)"
   ]
  },
  {
   "cell_type": "code",
   "execution_count": 70,
   "metadata": {},
   "outputs": [],
   "source": [
    "#create a perfect forecaster\n",
    "tot_day_energy = np.sum(senergy, axis=1) #contains total energy harvested on each day\n",
    "get_day_state = np.vectorize(get_day_state)\n",
    "forecast = get_day_state(tot_day_energy)"
   ]
  },
  {
   "cell_type": "code",
   "execution_count": 71,
   "metadata": {},
   "outputs": [],
   "source": [
    "# ##print tot_day energy\n",
    "# f, (ax1, ax2) = plt.subplots(1,2,figsize=(20,5))\n",
    "# ax1.plot(tot_day_energy)\n",
    "# ax1.set_title('Total Energy')\n",
    "# ax2.plot(forecast)\n",
    "# ax2.set_title('Day State')\n",
    "# plt.show()"
   ]
  },
  {
   "cell_type": "code",
   "execution_count": 87,
   "metadata": {},
   "outputs": [],
   "source": [
    "no_of_dist_state = 42;\n",
    "no_of_henergy_state = 7;\n",
    "no_of_day_state = 6;\n",
    "no_of_actions = 5;"
   ]
  },
  {
   "cell_type": "code",
   "execution_count": 90,
   "metadata": {},
   "outputs": [],
   "source": [
    "gamma = 0.8 #discount rate\n",
    "alpha = 0.01 #learning rate\n",
    "lmbda = 0.5 #sarsa decay parameter\n",
    "epsilon = 0.1 #e-greedy rate\n",
    "IMAX = 10000 #maximum number of iterations\n"
   ]
  },
  {
   "cell_type": "code",
   "execution_count": 88,
   "metadata": {},
   "outputs": [],
   "source": [
    "#q_init is used for optimistic initialization of the Q-table to maximize exploration in the initial phases of training\n",
    "#battery level agnostic\n",
    "q_init = 500;\n",
    "q = np.zeros((no_of_dist_state, no_of_henergy_state, no_of_day_state, no_of_actions)) + q_init"
   ]
  },
  {
   "cell_type": "code",
   "execution_count": 89,
   "metadata": {},
   "outputs": [],
   "source": [
    "e = np.zeros((no_of_dist_state, no_of_henergy_state, no_of_day_state, no_of_actions))"
   ]
  },
  {
   "cell_type": "code",
   "execution_count": 91,
   "metadata": {},
   "outputs": [],
   "source": [
    "#days start from 0\n",
    "for day in [1]:\n",
    "    iteration = 0\n",
    "    day_enp_rec = np.zeros(0) #to record the ENP across the iteration\n",
    "    #print(\"Training Day: {}\" .format(day))\n",
    "    \n",
    "    \n",
    "    \n",
    "    #for each day iterate IMAX times\n",
    "    while (iteration < IMAX):\n",
    "            #print(\"Iteration Number: {}\" .format(iteration))\n",
    "            \n",
    "            next_batt = BINIT #battery is initialized\n",
    "            #print(\"Battery Level: {} \" .format(batt))\n",
    "            \n",
    "            e = e*0 # eligibility traces are reset\n",
    "            \n",
    "            next_dist = BINIT - next_batt  #distance from BOPT. Required to calculate dist_state.\n",
    "            next_henergy = senergy[day,0]\n",
    "            next_day_state = forecast[day]\n",
    "            action = np.random.randint(1,no_of_actions) #choose random action in the beginning\n",
    "            \n",
    "            TIME_STEPS = senergy.shape[1]\n",
    "            for hr in range(TIME_STEPS):\n",
    "                \n",
    "                #Battery State AGNOSTIC\n",
    "                #Battery Energy\n",
    "                batt = next_batt\n",
    "#                 print(\"Battery = {}\" .format(batt))\n",
    "                #batt_state = int(get_batt_state(batt))\n",
    "                #print(\"Battery State = {}\" .format(batt_state))\n",
    "                \n",
    "                #Distance from Energy Neutrality\n",
    "                dist = next_dist\n",
    "#                 print(\"EN Distance = {}\" .format(dist))\n",
    "                dist_state = int(get_dist_state(dist))\n",
    "#                 print(\"EN Distance State = {}\" .format(dist_state))\n",
    "                \n",
    "                #Harvested Energy\n",
    "                henergy = next_henergy\n",
    "#                 print(\"Harvested Energy = {}\" .format(henergy))\n",
    "                henergy_state = int(get_henergy_state(henergy))\n",
    "#                 print(\"Harvested Energy State = {}\" .format(henergy_state))\n",
    "                                \n",
    "                #Weather Forecast State\n",
    "                day_state =  next_day_state\n",
    "#                 print(\"Weather Forecast State for day {} is {}.\".format(day, day_state))\n",
    "                \n",
    "                #STATE HAS BEEN DETERMINED\n",
    "                state = np.array([dist_state, henergy_state,  day_state])\n",
    "                \n",
    "                #PRESENT ACTION\n",
    "#                 print(\"Action is {}.\".format(action+1))\n",
    "\n",
    "                #CHOOSE NEXT ACTION\n",
    "                next_action = choose_action(dist_state, henergy_state, day_state, q)\n",
    "#                 print(\"Next Action is {}.\".format(next_action+1))\n",
    "\n",
    "                \n",
    "                #EXECUTE ACTION\n",
    "                next_batt = batt - action*100 + henergy\n",
    "                next_dist = BINIT - next_batt\n",
    "                next_dist_state = get_dist_state(next_dist)\n",
    "                \n",
    "                if (hr < TIME_STEPS-1):\n",
    "                    next_henergy = senergy[day, hr+1]\n",
    "                    next_henergy_state = get_henergy_state(next_henergy)\n",
    "                else:\n",
    "                    next_henergy = senergy[day+1, 0]\n",
    "                    next_henergy_state = get_henergy_state(next_henergy)\n",
    "                    next_day_state = forecast[day+1]\n",
    "                \n",
    "                #RECEIVE REWARD\n",
    "                if (hr == TIME_STEPS-1):\n",
    "                    reward = rewardfn(next_dist)\n",
    "#                     print(\"Reward is {}.\".format(reward))\n",
    "#                     print(\"ENP is {}.\".format(next_dist))\n",
    "                    day_enp_rec = np.append(day_enp_rec, next_dist) #record the ENP at the end of day\n",
    "\n",
    "                \n",
    "                #SARSA LAMBDA UPDATE\n",
    "                if (hr == TIME_STEPS-1):\n",
    "                    del_ = reward - q[dist_state, henergy_state, day_state, action]\n",
    "#                     print(\"del@end = {}\" .format(del_))\n",
    "                else:\n",
    "                    del_ = gamma * q[next_dist_state, next_henergy_state, next_day_state, next_action] - q[dist_state, henergy_state, day_state, action]\n",
    "#                     print(\"del = {}\" .format(del_))\n",
    "\n",
    "                \n",
    "                #ELIGIBILITY TRACE AND Q-TABLE UPDATE\n",
    "                e[dist_state, henergy_state, day_state, action] += 1 #increase eligibility ONLY of the state-action pair just visited\n",
    "                qerr = alpha*del_*e\n",
    "                q = q + qerr\n",
    "                e = gamma*lmbda*e #decay eligibility trace for ALL state-action pairs by a fixed rate\n",
    "                \n",
    "                #UPDATES FOR NEXT TIME STEPS\n",
    "                action = next_action\n",
    "                batt = next_batt\n",
    "                dist = next_dist\n",
    "                henergy = next_henergy\n",
    "            \n",
    "#                 print(\"END OF HOUR {}\\n\\n\".format(hr))\n",
    "                #END OF HOUR\n",
    "            \n",
    "            iteration += 1\n",
    "        #END OF ITERATION LOOP\n",
    "    #END OF DAY LOOP\n",
    "    \n"
   ]
  },
  {
   "cell_type": "code",
   "execution_count": 136,
   "metadata": {},
   "outputs": [
    {
     "data": {
      "image/png": "[encoded data removed]",
      "text/plain": [
       "<Figure size 432x288 with 1 Axes>"
      ]
     },
     "metadata": {
      "needs_background": "light"
     },
     "output_type": "display_data"
    }
   ],
   "source": [
    "\n",
    "plt.plot(day_enp_rec)\n",
    "plt.ylabel(\"ENP\")\n",
    "plt.xlabel(\"Iteration #\")\n",
    "plt.text(0.5, 0.5, \"alpha = %s  gamma = %s  lambda = %s epsilon = %s \" %(alpha, gamma, lmbda, epsilon))\n",
    "\n",
    "filename = \"a_\"+str(alpha)+\"__g_\"+str(gamma)+\"__l_\"+str(lmbda)+\"__e_\"+str(epsilon)+\".png\"\n",
    "plt.savefig(filename)"
   ]
  },
  {
   "cell_type": "code",
   "execution_count": 134,
   "metadata": {},
   "outputs": [],
   "source": [
    "filename = \"a_\"+str(alpha)+\"__g_\"+str(gamma)+\"__l_\"+str(lmbda)+\"__e_\"+str(epsilon)+\".png\"\n"
   ]
  },
  {
   "cell_type": "code",
   "execution_count": 135,
   "metadata": {},
   "outputs": [
    {
     "data": {
      "text/plain": [
       "'a_0.01__g_0.8__l_0.3__e_0.1.png'"
      ]
     },
     "execution_count": 135,
     "metadata": {},
     "output_type": "execute_result"
    }
   ],
   "source": [
    "filename"
   ]
  },
  {
   "cell_type": "code",
   "execution_count": null,
   "metadata": {},
   "outputs": [],
   "source": []
  }
 ],
 "metadata": {
  "kernelspec": {
   "display_name": "Python 3",
   "language": "python",
   "name": "python3"
  },
  "language_info": {
   "codemirror_mode": {
    "name": "ipython",
    "version": 3
   },
   "file_extension": ".py",
   "mimetype": "text/x-python",
   "name": "python",
   "nbconvert_exporter": "python",
   "pygments_lexer": "ipython3",
   "version": "3.6.7"
  }
 },
 "nbformat": 4,
 "nbformat_minor": 2
}
