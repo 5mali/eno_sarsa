{
 "cells": [
  {
   "cell_type": "code",
   "execution_count": null,
   "metadata": {},
   "outputs": [],
   "source": [
    "%matplotlib inline"
   ]
  },
  {
   "cell_type": "code",
   "execution_count": null,
   "metadata": {},
   "outputs": [],
   "source": [
    "import pulp\n",
    "import matplotlib.pyplot as plt\n",
    "import pandas as pd\n",
    "import numpy as np"
   ]
  },
  {
   "cell_type": "code",
   "execution_count": null,
   "metadata": {},
   "outputs": [],
   "source": [
    "HMAX = 3000 #Maximum harvested energy\n",
    "\n",
    "DMIN = 1 #20% duty cycle = 100 mWhr\n",
    "DMAX = 5 #100% duty cycle = 500 mWhr\n",
    "DSCALE = 100 #scale to convert action value to actual power consumption\n",
    "NMAX = DMAX * DSCALE #max energy consumption\n",
    "\n",
    "BMIN = 0.0\n",
    "BMAX = 40000.0\n",
    "BOPT = 0.6 * BMAX\n",
    "BINIT = BOPT"
   ]
  },
  {
   "cell_type": "code",
   "execution_count": null,
   "metadata": {},
   "outputs": [],
   "source": [
    "year = 2010\n",
    "filename = str(year)+'.csv'"
   ]
  },
  {
   "cell_type": "code",
   "execution_count": null,
   "metadata": {},
   "outputs": [],
   "source": [
    "#skiprows=4 to remove unnecessary title texts\n",
    "#usecols=4 to read only the Global Solar Radiation (GSR) values\n",
    "solar_radiation = pd.read_csv(filename, skiprows=4, encoding='shift_jisx0213', usecols=[4])"
   ]
  },
  {
   "cell_type": "code",
   "execution_count": null,
   "metadata": {},
   "outputs": [],
   "source": [
    "#convert dataframe to numpy array\n",
    "solar_radiation = solar_radiation.values\n",
    "solar_energy = np.array([i *0.0165*1000000*0.15*1000/(60*60) for i in solar_radiation])"
   ]
  },
  {
   "cell_type": "code",
   "execution_count": null,
   "metadata": {},
   "outputs": [],
   "source": [
    "#reshape solar_energy into no_of_daysx24 array\n",
    "henergy = solar_energy.reshape(-1,24)\n",
    "henergy[np.isnan(henergy)] = 0 #convert missing data in CSV files to zero"
   ]
  },
  {
   "cell_type": "code",
   "execution_count": null,
   "metadata": {},
   "outputs": [],
   "source": [
    "def get_day_state(tot_day_energy):\n",
    "    if (tot_day_energy < 2500):\n",
    "        day_state = 1\n",
    "    elif (2500 <= tot_day_energy < 5000):\n",
    "        day_state = 2\n",
    "    elif (5000 <= tot_day_energy < 8000):\n",
    "        day_state = 3\n",
    "    elif (8000 <= tot_day_energy < 10000):\n",
    "        day_state = 4\n",
    "    elif (10000 <= tot_day_energy < 12000):\n",
    "        day_state = 5\n",
    "    else:\n",
    "        day_state = 6\n",
    "        \n",
    "    return day_state"
   ]
  },
  {
   "cell_type": "code",
   "execution_count": null,
   "metadata": {},
   "outputs": [],
   "source": [
    "#create a perfect forecaster\n",
    "tot_day_energy = np.sum(henergy, axis=1) #contains total energy harvested on each day\n",
    "get_day_state = np.vectorize(get_day_state)\n",
    "forecast = get_day_state(tot_day_energy)"
   ]
  },
  {
   "cell_type": "code",
   "execution_count": null,
   "metadata": {},
   "outputs": [],
   "source": [
    "#print tot_day energy\n",
    "f, (ax1, ax2) = plt.subplots(1,2,figsize=(20,5))\n",
    "ax1.plot(tot_day_energy)\n",
    "ax1.set_title('Total Energy')\n",
    "ax2.plot(forecast)\n",
    "ax2.set_title('Day State')\n",
    "plt.show()"
   ]
  },
  {
   "cell_type": "code",
   "execution_count": null,
   "metadata": {},
   "outputs": [],
   "source": [
    "no_of_dist_state = 42;\n",
    "no_of_henergy_state = 7;\n",
    "no_of_day_state = 6;\n",
    "no_of_actions = 5;"
   ]
  },
  {
   "cell_type": "code",
   "execution_count": null,
   "metadata": {},
   "outputs": [],
   "source": [
    "#q_init is used for optimistic initialization of the Q-table to maximize exploration in the initial phases of training\n",
    "q_init = 500;\n",
    "q = np.zeros((no_of_dist_state, no_of_henergy_state, no_of_day_state, no_of_actions)) + q_init"
   ]
  },
  {
   "cell_type": "code",
   "execution_count": null,
   "metadata": {},
   "outputs": [],
   "source": [
    "e = np.zeros((no_of_dist_state, no_of_henergy_state, no_of_day_state, no_of_actions))"
   ]
  },
  {
   "cell_type": "code",
   "execution_count": null,
   "metadata": {},
   "outputs": [],
   "source": [
    "gamma = 0.8 #discount rate\n",
    "alpha = 0.001 #learning rate\n",
    "lmbda = 0.3 #sarsa decay parameter\n",
    "epsilon = 700 #e-greedy rate\n",
    "IMAX = 1 #maximum number of iterations\n"
   ]
  },
  {
   "cell_type": "code",
   "execution_count": null,
   "metadata": {},
   "outputs": [],
   "source": [
    "#days start from 0\n",
    "for day in [1]:\n",
    "    #print(\"Training Day: {}\" .format(day))\n",
    "    #get day_state\n",
    "    iteration = 0\n",
    "    day_state = forecast[day]\n",
    "    #print(day_state)\n",
    "    \n",
    "    #for each day iterate IMAX times\n",
    "    while (iteration < IMAX):\n",
    "            #print(\"Iteration Number: {}\" .format(iteration))\n",
    "            \n",
    "            batt = BINIT #battery is initialized\n",
    "            #print(\"Battery Level: {} \" .format(batt))\n",
    "            \n",
    "            e = e*0 # eligibility traces are reset\n",
    "            \n",
    "            action = np.random.randint(1,no_of_actions) #choose random action in the beginning\n",
    "            #print(\"Action Taken: {}\" .format(action))\n",
    "            \n",
    "            for hr in range(henergy.shape[1]):\n",
    "                print(henergy[day,hr])\n",
    "            \n",
    "            iteration += 1\n"
   ]
  }
 ],
 "metadata": {
  "kernelspec": {
   "display_name": "Python 3",
   "language": "python",
   "name": "python3"
  },
  "language_info": {
   "codemirror_mode": {
    "name": "ipython",
    "version": 3
   },
   "file_extension": ".py",
   "mimetype": "text/x-python",
   "name": "python",
   "nbconvert_exporter": "python",
   "pygments_lexer": "ipython3",
   "version": "3.6.7"
  }
 },
 "nbformat": 4,
 "nbformat_minor": 2
}
