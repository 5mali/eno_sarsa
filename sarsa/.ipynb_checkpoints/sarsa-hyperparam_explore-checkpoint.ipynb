{
 "cells": [
  {
   "cell_type": "code",
   "execution_count": 1,
   "metadata": {},
   "outputs": [],
   "source": [
    "#BATTERY LEVEL AGNOSTIC PROTOTYPE"
   ]
  },
  {
   "cell_type": "code",
   "execution_count": 2,
   "metadata": {},
   "outputs": [],
   "source": [
    "%matplotlib inline"
   ]
  },
  {
   "cell_type": "code",
   "execution_count": 3,
   "metadata": {},
   "outputs": [],
   "source": [
    "import pulp\n",
    "import matplotlib.pyplot as plt\n",
    "import pandas as pd\n",
    "import numpy as np"
   ]
  },
  {
   "cell_type": "code",
   "execution_count": 4,
   "metadata": {},
   "outputs": [],
   "source": [
    "\n",
    "np.random.seed(230228)\n",
    "HMAX = 3000 #Maximum harvested energy\n",
    "\n",
    "DMIN = 1 #20% duty cycle = 100 mWhr\n",
    "DMAX = 5 #100% duty cycle = 500 mWhr\n",
    "DSCALE = 100 #scale to convert action value to actual power consumption\n",
    "NMAX = DMAX * DSCALE #max energy consumption\n",
    "\n",
    "BMIN = 0.0\n",
    "BMAX = 40000.0\n",
    "BOPT = 0.6 * BMAX\n",
    "BINIT = BOPT"
   ]
  },
  {
   "cell_type": "code",
   "execution_count": 5,
   "metadata": {},
   "outputs": [],
   "source": [
    "year = 2010\n",
    "filename = str(year)+'.csv'"
   ]
  },
  {
   "cell_type": "code",
   "execution_count": 6,
   "metadata": {},
   "outputs": [],
   "source": [
    "#skiprows=4 to remove unnecessary title texts\n",
    "#usecols=4 to read only the Global Solar Radiation (GSR) values\n",
    "solar_radiation = pd.read_csv(filename, skiprows=4, encoding='shift_jisx0213', usecols=[4])"
   ]
  },
  {
   "cell_type": "code",
   "execution_count": 7,
   "metadata": {},
   "outputs": [],
   "source": [
    "#convert dataframe to numpy array\n",
    "solar_radiation = solar_radiation.values\n",
    "solar_energy = np.array([i *0.0165*1000000*0.15*1000/(60*60) for i in solar_radiation])"
   ]
  },
  {
   "cell_type": "code",
   "execution_count": 8,
   "metadata": {},
   "outputs": [],
   "source": [
    "#reshape solar_energy into no_of_daysx24 array\n",
    "senergy = solar_energy.reshape(-1,24)\n",
    "senergy[np.isnan(senergy)] = 0 #convert missing data in CSV files to zero"
   ]
  },
  {
   "cell_type": "code",
   "execution_count": 9,
   "metadata": {},
   "outputs": [
    {
     "data": {
      "text/plain": [
       "[<matplotlib.lines.Line2D at 0x1f88c953b00>]"
      ]
     },
     "execution_count": 9,
     "metadata": {},
     "output_type": "execute_result"
    },
    {
     "data": {
      "image/png": "[encoded data removed]",
      "text/plain": [
       "<Figure size 432x288 with 1 Axes>"
      ]
     },
     "metadata": {
      "needs_background": "light"
     },
     "output_type": "display_data"
    }
   ],
   "source": [
    "def rewardfn(next_dist):\n",
    "    mu = 0\n",
    "    sig = 300\n",
    "    \n",
    "    if(np.abs(next_dist) <= 1000):\n",
    "        return ((1./(np.sqrt(2.*np.pi)*sig)*np.exp(-np.power((next_dist - mu)/sig, 2.)/2)) * 300000)\n",
    "    else:\n",
    "        return -100 - 0.05*np.abs(next_dist)\n",
    "\n",
    "y = [rewardfn(x) for x in np.arange(-5000,5000)]\n",
    "plt.plot(np.arange(-5000,5000),y)"
   ]
  },
  {
   "cell_type": "code",
   "execution_count": 10,
   "metadata": {},
   "outputs": [
    {
     "data": {
      "text/plain": [
       "[<matplotlib.lines.Line2D at 0x1f88ca04160>]"
      ]
     },
     "execution_count": 10,
     "metadata": {},
     "output_type": "execute_result"
    },
    {
     "data": {
      "image/png": "[encoded data removed]",
      "text/plain": [
       "<Figure size 432x288 with 1 Axes>"
      ]
     },
     "metadata": {
      "needs_background": "light"
     },
     "output_type": "display_data"
    }
   ],
   "source": [
    "def get_henergy_state(henergy):\n",
    "    if (henergy <= 0):\n",
    "        henergy_state = 0\n",
    "    elif (0 < henergy <= 100):\n",
    "        henergy_state = 1\n",
    "    elif (100 < henergy <= 500):\n",
    "        henergy_state = 2\n",
    "    elif (500 < henergy <= 2000):\n",
    "        henergy_state = np.ceil(henergy/500) + 1\n",
    "    else:\n",
    "        henergy_state = 6\n",
    "    \n",
    "    return int(henergy_state)\n",
    "\n",
    "y = [get_henergy_state(x) for x in np.arange(0.0,3000.0,0.5)]\n",
    "plt.plot(y)"
   ]
  },
  {
   "cell_type": "code",
   "execution_count": 11,
   "metadata": {},
   "outputs": [
    {
     "data": {
      "text/plain": [
       "[<matplotlib.lines.Line2D at 0x1f88cbf7c50>]"
      ]
     },
     "execution_count": 11,
     "metadata": {},
     "output_type": "execute_result"
    },
    {
     "data": {
      "image/png": "[encoded data removed]",
      "text/plain": [
       "<Figure size 432x288 with 1 Axes>"
      ]
     },
     "metadata": {
      "needs_background": "light"
     },
     "output_type": "display_data"
    }
   ],
   "source": [
    "def get_dist_state(dist):\n",
    "    temp = np.ceil(np.abs(dist/1000))\n",
    "    \n",
    "    if (dist >= 0):\n",
    "        dist_state = 21 - temp\n",
    "    else:\n",
    "        dist_state = 20 + temp\n",
    "    \n",
    "    dist_state = np.clip(dist_state, 0, 41)\n",
    "    \n",
    "    return int(dist_state)\n",
    "    \n",
    "y = [get_dist_state(x) for x in np.arange(-40000,40000)]\n",
    "plt.plot(y)"
   ]
  },
  {
   "cell_type": "code",
   "execution_count": 12,
   "metadata": {},
   "outputs": [],
   "source": [
    "def choose_action(dist_state, henergy_state,  day_state, q):\n",
    "    # This is how to choose an action\n",
    "    q_values = q[dist_state, henergy_state,  day_state, :]\n",
    "    max_q_value = np.max(q_values)\n",
    "    max_action = np.argmax(q_values)\n",
    "    if (np.random.uniform() < epsilon) or ((q_values == 0).all()):  # select randomly if exploring or \n",
    "                                                                         #if state-action values are ALL zero\n",
    "        action = np.random.randint(1,no_of_actions)\n",
    "    else:   # act greedy\n",
    "        action = max_action\n",
    "    return int(action)"
   ]
  },
  {
   "cell_type": "code",
   "execution_count": 13,
   "metadata": {},
   "outputs": [],
   "source": [
    "#function to map total day energy into day_state\n",
    "def get_day_state(tot_day_energy):\n",
    "    if (tot_day_energy < 2500):\n",
    "        day_state = 0\n",
    "    elif (2500 <= tot_day_energy < 5000):\n",
    "        day_state = 1\n",
    "    elif (5000 <= tot_day_energy < 8000):\n",
    "        day_state = 2\n",
    "    elif (8000 <= tot_day_energy < 10000):\n",
    "        day_state = 3\n",
    "    elif (10000 <= tot_day_energy < 12000):\n",
    "        day_state = 4\n",
    "    else:\n",
    "        day_state = 5\n",
    "        \n",
    "    return int(day_state)"
   ]
  },
  {
   "cell_type": "code",
   "execution_count": 14,
   "metadata": {},
   "outputs": [],
   "source": [
    "#create a perfect forecaster\n",
    "tot_day_energy = np.sum(senergy, axis=1) #contains total energy harvested on each day\n",
    "get_day_state = np.vectorize(get_day_state)\n",
    "forecast = get_day_state(tot_day_energy)"
   ]
  },
  {
   "cell_type": "code",
   "execution_count": 19,
   "metadata": {},
   "outputs": [
    {
     "name": "stdout",
     "output_type": "stream",
     "text": [
      "[ 10  11  31  40  41  42  43  45  46  60  64  65  67  82  83  91  94  96\n",
      " 101 104 111 112 130 143 250 258 265 269 270 272 281 293 298 300 302 320\n",
      " 346 347 349]\n",
      "[ 20  27  47  52  56  57  58  62  93 105 116 117 139 142 148 149 158 164\n",
      " 173 193 209 266 276 287 291 292 294 296 297 301 303 304 307 317 318 325\n",
      " 326 329 340 354 363]\n",
      "[  1   2   3   4   5   6   7  12  14  17  19  21  28  32  34  48  59  66\n",
      "  73  81  84  86  87  89 109 126 138 145 159 176 179 181 183 187 189 191\n",
      " 192 210 220 221 224 225 257 262 267 273 282 284 285 286 289 310 311 315\n",
      " 316 321 322 323 324 327 328 330 331 332 333 334 335 336 338 339 341 342\n",
      " 343 344 345 348 350 351 352 353 355 356 357 358 359 360 361 362 364]\n",
      "[  0   8   9  13  15  16  18  22  23  24  25  26  29  30  33  36  38  39\n",
      "  44  49  51  68  74 129 166 168 170 172 177 178 185 186 211 213 223 230\n",
      " 231 251 255 256 277 278 279 280 288 290 295 299 305 308 309 312 313 314\n",
      " 319 337]\n",
      "[ 35  37  50  53  54  55  61  75  76  77  79  90  98 100 106 131 169 171\n",
      " 180 184 194 195 219 229 241 247 254 261 271 274 275 306]\n",
      "[ 63  69  70  71  72  78  80  85  88  92  95  97  99 102 103 107 108 110\n",
      " 113 114 115 118 119 120 121 122 123 124 125 127 128 132 133 134 135 136\n",
      " 137 140 141 144 146 147 150 151 152 153 154 155 156 157 160 161 162 163\n",
      " 165 167 174 175 182 188 190 196 197 198 199 200 201 202 203 204 205 206\n",
      " 207 208 212 214 215 216 217 218 222 226 227 228 232 233 234 235 236 237\n",
      " 238 239 240 242 243 244 245 246 248 249 252 253 259 260 263 264 268 283]\n"
     ]
    }
   ],
   "source": [
    "for fcast in range(0,6):\n",
    "    fcast_days = np.array([i for i,x in enumerate(forecast) if x == fcast])\n",
    "    print(fcast_days)"
   ]
  },
  {
   "cell_type": "code",
   "execution_count": 15,
   "metadata": {},
   "outputs": [],
   "source": [
    "# ##print tot_day energy\n",
    "# f, (ax1, ax2) = plt.subplots(1,2,figsize=(20,5))\n",
    "# ax1.plot(tot_day_energy)\n",
    "# ax1.set_title('Total Energy')\n",
    "# ax2.plot(forecast)\n",
    "# ax2.set_title('Day State')\n",
    "# plt.show()"
   ]
  },
  {
   "cell_type": "code",
   "execution_count": 16,
   "metadata": {},
   "outputs": [],
   "source": [
    "no_of_dist_state = 42;\n",
    "no_of_henergy_state = 7;\n",
    "no_of_day_state = 6;\n",
    "no_of_actions = 5;"
   ]
  },
  {
   "cell_type": "code",
   "execution_count": 17,
   "metadata": {},
   "outputs": [
    {
     "data": {
      "image/png": "[encoded data removed]",
      "text/plain": [
       "<Figure size 432x288 with 1 Axes>"
      ]
     },
     "metadata": {
      "needs_background": "light"
     },
     "output_type": "display_data"
    }
   ],
   "source": [
    "#days start from 0\n",
    "IMAX = 5000 #maximum number of iterations\n",
    "\n",
    "#q_init is used for optimistic initialization of the Q-table to maximize exploration in the initial phases of training\n",
    "q_init = 200;\n",
    "q = np.zeros((no_of_dist_state, no_of_henergy_state, no_of_day_state, no_of_actions)) + q_init\n",
    "e = np.zeros((no_of_dist_state, no_of_henergy_state, no_of_day_state, no_of_actions))  \n",
    "\n",
    "for gamma in [0.8]: #discount factor\n",
    "    for alpha in [0.05]: #learning rate\n",
    "        for lmbda in [0.8]: #sarsa decay parameter\n",
    "            for epsilon in [0.1]: #e-greedy rate\n",
    "\n",
    "                for day in range(0,360,3):\n",
    "                    iteration = 0\n",
    "                    day_enp_rec = np.zeros(0) #to record the ENP across the iteration\n",
    "                    reward_rec = np.zeros(0) #to record the reward across the iteration\n",
    "                    #print(\"Training Day: {}\" .format(day))\n",
    "                    #for each day iterate IMAX times\n",
    "                    while (iteration < IMAX):\n",
    "                            #print(\"Iteration Number: {}\" .format(iteration))\n",
    "\n",
    "                            next_batt = BINIT #battery is initialized\n",
    "                            #print(\"Battery Level: {} \" .format(batt))\n",
    "\n",
    "                            e = e*0 # eligibility traces are reset\n",
    "\n",
    "                            next_dist = BINIT - next_batt  #distance from BOPT. Required to calculate dist_state.\n",
    "                            next_henergy = senergy[day,0]\n",
    "                            next_day_state = forecast[day]\n",
    "                            action = np.random.randint(1,no_of_actions) #choose random action in the beginning\n",
    "\n",
    "                            TIME_STEPS = senergy.shape[1]\n",
    "                            for hr in range(TIME_STEPS):\n",
    "\n",
    "                                #Battery State AGNOSTIC\n",
    "                                #Battery Energy\n",
    "                                batt = next_batt\n",
    "                #                 print(\"Battery = {}\" .format(batt))\n",
    "                                #batt_state = int(get_batt_state(batt))\n",
    "                                #print(\"Battery State = {}\" .format(batt_state))\n",
    "\n",
    "                                #Distance from Energy Neutrality\n",
    "                                dist = next_dist\n",
    "                #                 print(\"EN Distance = {}\" .format(dist))\n",
    "                                dist_state = int(get_dist_state(dist))\n",
    "                #                 print(\"EN Distance State = {}\" .format(dist_state))\n",
    "\n",
    "                                #Harvested Energy\n",
    "                                henergy = next_henergy\n",
    "                #                 print(\"Harvested Energy = {}\" .format(henergy))\n",
    "                                henergy_state = int(get_henergy_state(henergy))\n",
    "                #                 print(\"Harvested Energy State = {}\" .format(henergy_state))\n",
    "\n",
    "                                #Weather Forecast State\n",
    "                                day_state =  next_day_state\n",
    "                #                 print(\"Weather Forecast State for day {} is {}.\".format(day, day_state))\n",
    "\n",
    "                                #STATE HAS BEEN DETERMINED\n",
    "                                state = np.array([dist_state, henergy_state,  day_state])\n",
    "\n",
    "                                #PRESENT ACTION\n",
    "                #                 print(\"Action is {}.\".format(action+1))\n",
    "\n",
    "                                #CHOOSE NEXT ACTION\n",
    "                                next_action = choose_action(dist_state, henergy_state, day_state, q)\n",
    "                #                 print(\"Next Action is {}.\".format(next_action+1))\n",
    "\n",
    "\n",
    "                                #EXECUTE ACTION\n",
    "                                next_batt = batt - action*100 + henergy\n",
    "                                next_dist = BINIT - next_batt\n",
    "                                next_dist_state = get_dist_state(next_dist)\n",
    "\n",
    "                                if (hr < TIME_STEPS-1):\n",
    "                                    next_henergy = senergy[day, hr+1]\n",
    "                                    next_henergy_state = get_henergy_state(next_henergy)\n",
    "                                else:\n",
    "                                    next_henergy = senergy[day+1, 0]\n",
    "                                    next_henergy_state = get_henergy_state(next_henergy)\n",
    "                                    next_day_state = forecast[day+1]\n",
    "\n",
    "                                #RECEIVE REWARD\n",
    "                                if (hr == TIME_STEPS-1):\n",
    "                                    reward = rewardfn(next_dist)\n",
    "                #                     print(\"Reward is {}.\".format(reward))\n",
    "                #                     print(\"ENP is {}.\".format(next_dist))\n",
    "                                    day_enp_rec = np.append(day_enp_rec, next_dist) #record the ENP at the end of day\n",
    "                                    reward_rec = np.append(reward_rec, reward) #record the ENP at the end of day\n",
    "\n",
    "\n",
    "                                #SARSA LAMBDA UPDATE\n",
    "                                if (hr == TIME_STEPS-1):\n",
    "                                    del_ = reward - q[dist_state, henergy_state, day_state, action]\n",
    "                #                     print(\"del@end = {}\" .format(del_))\n",
    "                                else:\n",
    "                                    del_ = gamma * q[next_dist_state, next_henergy_state, next_day_state, next_action] - q[dist_state, henergy_state, day_state, action]\n",
    "                #                     print(\"del = {}\" .format(del_))\n",
    "\n",
    "\n",
    "                                #ELIGIBILITY TRACE AND Q-TABLE UPDATE\n",
    "                                e[dist_state, henergy_state, day_state, action] += 1 #increase eligibility ONLY of the state-action pair just visited\n",
    "                                qerr = alpha*del_*e\n",
    "                                q = q + qerr\n",
    "                                e = gamma*lmbda*e #decay eligibility trace for ALL state-action pairs by a fixed rate\n",
    "\n",
    "                                #UPDATES FOR NEXT TIME STEPS\n",
    "                                action = next_action\n",
    "                                batt = next_batt\n",
    "                                dist = next_dist\n",
    "                                henergy = next_henergy\n",
    "\n",
    "                #                 print(\"END OF HOUR {}\\n\\n\".format(hr))\n",
    "                                #END OF HOUR\n",
    "\n",
    "                            iteration += 1\n",
    "                        #END OF ITERATION LOOP\n",
    "                    #END OF DAY LOOP\n",
    "                    plt.clf()\n",
    "                    plt.plot(reward_rec)\n",
    "                    plt.ylabel(\"REWARD\")\n",
    "                    plt.xlabel(\"Iteration #\")\n",
    "                    plt.text(0.5, 0.5, \"alpha = %s  gamma = %s  lambda = %s epsilon = %s \" %(alpha, gamma, lmbda, epsilon))\n",
    "\n",
    "                    filename = \"day_\" + str(day) + \"a_\" + str(alpha) + \"__g_\" + str(gamma) + \"__l_\" + str(lmbda) + \"__e_\" + str(epsilon) + \".png\"\n",
    "                    plt.savefig(filename)\n",
    "    \n"
   ]
  },
  {
   "cell_type": "code",
   "execution_count": null,
   "metadata": {},
   "outputs": [],
   "source": [
    "# plt.clf()\n",
    "# plt.ylabel(\"REWARD\")\n",
    "# plt.xlabel(\"Iteration #\")\n",
    "# plt.text(0.5, 0.5, \"alpha = %s  gamma = %s  lambda = %s epsilon = %s \" %(alpha, gamma, lmbda, epsilon))\n",
    "# plt.plot(reward_rec)\n",
    "\n"
   ]
  },
  {
   "cell_type": "code",
   "execution_count": null,
   "metadata": {},
   "outputs": [],
   "source": [
    "# plt.clf()\n",
    "# plt.ylabel(\"ENP\")\n",
    "# plt.xlabel(\"Iteration #\")\n",
    "# plt.text(0.5, 0.5, \"alpha = %s  gamma = %s  lambda = %s epsilon = %s \" %(alpha, gamma, lmbda, epsilon))\n",
    "# plt.plot((day_enp_rec))\n",
    "\n",
    "\n",
    "# filename = \"a_\"+str(alpha)+\"__g_\"+str(gamma)+\"__l_\"+str(lmbda)+\"__e_\"+str(epsilon)+ \".png\"\n",
    "# plt.savefig(filename)"
   ]
  },
  {
   "cell_type": "code",
   "execution_count": null,
   "metadata": {},
   "outputs": [],
   "source": []
  }
 ],
 "metadata": {
  "kernelspec": {
   "display_name": "Python 3",
   "language": "python",
   "name": "python3"
  },
  "language_info": {
   "codemirror_mode": {
    "name": "ipython",
    "version": 3
   },
   "file_extension": ".py",
   "mimetype": "text/x-python",
   "name": "python",
   "nbconvert_exporter": "python",
   "pygments_lexer": "ipython3",
   "version": "3.6.7"
  }
 },
 "nbformat": 4,
 "nbformat_minor": 2
}
